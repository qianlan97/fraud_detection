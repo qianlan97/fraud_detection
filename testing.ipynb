{
 "cells": [
  {
   "cell_type": "code",
   "execution_count": 1,
   "metadata": {},
   "outputs": [],
   "source": [
    "import pandas as pd\n",
    "from sklearn.neighbors import NearestNeighbors\n",
    "import matplotlib.pyplot as plt\n",
    "import matplotlib.gridspec as gridspec\n",
    "from sklearn.model_selection import train_test_split, GridSearchCV\n",
    "import seaborn as sns\n",
    "from sklearn.linear_model import LogisticRegression\n",
    "from sklearn.metrics import classification_report\n",
    "\n",
    "data  = pd.read_csv('creditcard.csv')\n",
    "X = data.iloc[:,0:-1]\n",
    "y = data.iloc[:, -1]\n",
    "print(y.shape[0])\n",
    "X_train, X_test, y_train, y_test = train_test_split(X, y, test_size = 0.3, random_state = 42)\n",
    "amount_list = X_test['Amount']\n",
    "amount_list = amount_list.to_numpy()"
   ]
  },
  {
   "cell_type": "code",
   "execution_count": null,
   "metadata": {},
   "outputs": [],
   "source": [
    "#do the simple straighforward SVC\n",
    "from sklearn import svm\n",
    "clf = LogisticRegression(random_state=42, class_weight={0:98, 1:2}).fit(X_train, y_train)\n",
    "target_names = ['normal', 'fraud']\n",
    "print(classification_report(y_test, clf.predict(X_test), target_names=target_names))"
   ]
  },
  {
   "cell_type": "code",
   "execution_count": 9,
   "metadata": {},
   "outputs": [
    {
     "data": {
      "text/plain": [
       "(284807, 18)"
      ]
     },
     "execution_count": 9,
     "metadata": {},
     "output_type": "execute_result"
    }
   ],
   "source": [
    "droplist = ['V8', 'V13', 'V15', 'V20', 'V21', 'V22', 'V23', 'V24', 'V25', 'V26', 'V27', 'V28','Time']\n",
    "data_new = data.drop(droplist, axis = 1)\n",
    "data_new.shape\n",
    "X = data.iloc[:,0:-1]\n",
    "y = data.iloc[:, -1]"
   ]
  },
  {
   "cell_type": "code",
   "execution_count": 10,
   "metadata": {},
   "outputs": [],
   "source": [
    "from imblearn.over_sampling import SMOTE\n",
    "sm = SMOTE(random_state=42)\n",
    "X_smote, y_smote = sm.fit_sample(X, y)\n",
    "n_sample = y_smote.shape[0]\n",
    "n_pos_sample = y_smote[y_smote == 0].shape[0]\n",
    "n_neg_sample = y_smote[y_smote == 1].shape[0]"
   ]
  },
  {
   "cell_type": "code",
   "execution_count": 11,
   "metadata": {},
   "outputs": [
    {
     "name": "stdout",
     "output_type": "stream",
     "text": [
      "Total:568630;  Positive:50.00%; Negative: 50.00%\n"
     ]
    }
   ],
   "source": [
    "best_model = LogisticRegression(C=0.1, penalty='l2', class_weight = {0:98, 1:2}).fit(X_smote, y_smote)\n",
    "target_names = ['normal', 'fraud']\n",
    "y_predict = best_model.predict(X_test)\n",
    "print(amount_list)\n",
    "for i in range(len(amount_list)):\n",
    "    if amount_list[i] > 2000:\n",
    "        y_predict[i] = 0 #big transaction->normal\n",
    "print(classification_report(y_test, y_predict, target_names=target_names))"
   ]
  },
  {
   "cell_type": "code",
   "execution_count": null,
   "metadata": {},
   "outputs": [],
   "source": [
    "from imblearn.under_sampling import NearMiss\n",
    "nms = NearMiss(random_state=42)\n",
    "X_nms, y_nms = nms.fit_sample(X, y)\n",
    "from sklearn.svm import SVC\n",
    "SVC_model = SVC(C=0.1, gamma='auto', kernel='sigmoid').fit(X_nms, y_nms)\n",
    "target_names = ['normal', 'fraud']\n",
    "y_predict = best_model.predict(X_test)\n",
    "print(amount_list)\n",
    "for i in range(len(amount_list)):\n",
    "    if amount_list[i] > 2000:\n",
    "        y_predict[i] = 0 #big transaction->normal\n",
    "print(classification_report(y_test, y_predict, target_names=target_names))"
   ]
  },
  {
   "cell_type": "code",
   "execution_count": null,
   "metadata": {},
   "outputs": [],
   "source": [
    ""
   ]
  }
 ],
 "metadata": {
  "kernelspec": {
   "display_name": "Python 3",
   "language": "python",
   "name": "python3"
  },
  "language_info": {
   "codemirror_mode": {
    "name": "ipython",
    "version": 3
   },
   "file_extension": ".py",
   "mimetype": "text/x-python",
   "name": "python",
   "nbconvert_exporter": "python",
   "pygments_lexer": "ipython3",
   "version": "3.7.3"
  }
 },
 "nbformat": 4,
 "nbformat_minor": 1
}
